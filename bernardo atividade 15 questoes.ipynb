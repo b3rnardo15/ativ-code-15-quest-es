{
 "cells": [
  {
   "cell_type": "code",
   "execution_count": 36,
   "metadata": {},
   "outputs": [
    {
     "name": "stdout",
     "output_type": "stream",
     "text": [
      "A letra digitada: E é uma vogal\n"
     ]
    }
   ],
   "source": [
    " #1)Faça um Programa que verifique se uma letra digitada é vogal ou consoante.\n",
    "\n",
    "letra = str(input(\"Digite uma letra: \"))\n",
    "\n",
    "if letra in \"AEIOUaeiou\":\n",
    "    print(\"A letra digitada:\",letra,\"é uma vogal\")\n",
    "else:\n",
    "    print(\"A letra digitada\", letra,\"é uma consoante\")\n",
    "\n",
    "\n",
    "\n",
    "\n"
   ]
  },
  {
   "cell_type": "code",
   "execution_count": 43,
   "metadata": {},
   "outputs": [
    {
     "name": "stdout",
     "output_type": "stream",
     "text": [
      "O produto 2 que custa R$300.00, é a sua melhor escolha, visto que possui o menor preço.\n"
     ]
    }
   ],
   "source": [
    "#2) Faça um programa que pergunte o preço de três produtos e informe qual produto você deve comprar, sabendo que a decisão é sempre pelo mais barato.\n",
    "\n",
    "produto1 = float(input(\"Digite o preço do primeiro produto:R$ \"))\n",
    "produto2 = float(input(\"Ditite o preço do segundo produto:R$ \"))\n",
    "produto3 = float(input(\"Digite o preço do terceiro produto:R$ \"))\n",
    "\n",
    "if produto1 < produto2 and produto1 < produto3:\n",
    "    print(f\"O produto 1 que custa R${produto1:.2f}, é a sua melhor escolha, visto que possui o menor preço.\")\n",
    "elif produto2 < produto1 and produto2 < produto3:\n",
    "    print(f\"O produto 2 que custa R${produto2:.2f}, é a sua melhor escolha, visto que possui o menor preço.\")\n",
    "else:\n",
    "    print(f\"O produto 3 que custa R${produto3:.2f}, é a sua melhor escolha, visto que ele possui o menor preço.\")"
   ]
  },
  {
   "cell_type": "code",
   "execution_count": 10,
   "metadata": {},
   "outputs": [
    {
     "name": "stdout",
     "output_type": "stream",
     "text": [
      "A ordem decrescente dos números é: 90, 40, 30.\n"
     ]
    }
   ],
   "source": [
    "#3) Faça um Programa que leia três números e mostre-os em ordem decrescente\n",
    "\n",
    "numero1 = int(input(\"Digite o primeiro numero: \"))\n",
    "numero2 = int(input(\"Digite o segundo numero: \"))\n",
    "numero3 = int(input(\"Digite o terceiro numero: \"))\n",
    "\n",
    "if numero1 >= numero2 and numero1 >= numero3:\n",
    "  maior = numero1\n",
    "  if numero2 >= numero3:\n",
    "    meio = numero2\n",
    "    menor = numero3\n",
    "  else:\n",
    "    meio = numero3\n",
    "    menor = numero2\n",
    "elif numero2 >= numero1 and numero2 >= numero3:\n",
    "  maior = numero2\n",
    "  if numero1 >= numero3:\n",
    "    meio = numero1\n",
    "    menor = numero3\n",
    "  else:\n",
    "    meio = numero3\n",
    "    menor = numero1\n",
    "else:\n",
    "  maior = numero3\n",
    "  if numero1 >= numero2:\n",
    "    meio = numero1\n",
    "    menor = numero2\n",
    "  else:\n",
    "    meio = numero2\n",
    "    menor = numero1\n",
    "\n",
    "print(f\"A ordem decrescente dos números é: {maior}, {meio}, {menor}.\")"
   ]
  },
  {
   "cell_type": "code",
   "execution_count": 12,
   "metadata": {},
   "outputs": [
    {
     "name": "stdout",
     "output_type": "stream",
     "text": [
      "Bom dia!\n"
     ]
    }
   ],
   "source": [
    "#4) Faça um Programa que pergunte em que turno você estuda. Peça para digitar M-matutino ou V-Vespertino ou N- Noturno. Imprima a mensagem \"Bom Dia!\", \"Boa Tarde!\" ou \"Boa Noite!\" ou \"Valor Inválido!\", conforme o caso.\n",
    "\n",
    "turno = input(\"Em qual turno você estuda? V - vespertino, M - matutino e N - noturno:\")\n",
    "\n",
    "if turno == \"M\":\n",
    "    print(\"Bom dia!\")\n",
    "elif turno == \"V\":\n",
    "    print(\"Boa tarde!\")\n",
    "elif turno == \"N\":\n",
    "    print(\"Boa noite!\")\n",
    "else:\n",
    "    print(\"Valor invalido! tente novamente.\")"
   ]
  },
  {
   "cell_type": "code",
   "execution_count": 13,
   "metadata": {},
   "outputs": [
    {
     "name": "stdout",
     "output_type": "stream",
     "text": [
      "O dia 2 da semana é uma Segunda-feira.\n"
     ]
    }
   ],
   "source": [
    "#5) Faça um Programa que leia um número e exiba o dia correspondente da semana. (1-Domingo, 2- Segunda, etc). Se for digitado outro valor deve retornar uma mensagem informando valor inválido.\n",
    "numero_semana = int(input(\"Digite um numero que corresponda ao dia da semana que você deseja saber: \"))\n",
    "\n",
    "if  numero_semana == 1:\n",
    "    print(f\"O dia {numero_semana} da semana é um Domingo.\")\n",
    "elif numero_semana == 2:\n",
    "    print(f\"O dia {numero_semana} da semana é uma Segunda-feira.\")\n",
    "elif numero_semana == 3:\n",
    "    print(f\"O dia {numero_semana} da semana é uma Terça-feira.\")\n",
    "elif numero_semana == 4:\n",
    "    print(f\"O dia {numero_semana} da semana é uma Quarta-feira.\")\n",
    "elif numero_semana == 5:\n",
    "    print(f\"O dia {numero_semana} da semana é uma Quinta-feira.\")\n",
    "elif numero_semana == 6:\n",
    "    print(f\"O dia {numero_semana} da semana é uma Sexta-feira. Sextou \")\n",
    "elif numero_semana == 7:\n",
    "    print(f\"O dia {numero_semana} da semana é um Sábado.\")\n",
    "else:\n",
    "    print(\"A semana possui 7 dias, digite um numero de 1 a 7.\")"
   ]
  },
  {
   "cell_type": "code",
   "execution_count": 24,
   "metadata": {},
   "outputs": [
    {
     "name": "stdout",
     "output_type": "stream",
     "text": [
      "Sua média foi 9.5\n",
      "Nota 1: 9.0\n",
      "Nota 2: 10.0\n",
      "Média: 9.5\n",
      "Conceito: A\n",
      "Situação: Aprovado\n"
     ]
    }
   ],
   "source": [
    "# 5.2)5. Faça um programa que lê as duas notas parciais obtidas por um aluno numa disciplina ao longo de um semestre, e calcule a sua média. A atribuição de conceitos obedece às regras:\n",
    "nota1 = float(input(\"Digite sua primeira nota: \"))\n",
    "nota2 = float(input(\"Ditite sua segunda nota: \"))\n",
    "\n",
    "media = (nota1 + nota2) / 2\n",
    "\n",
    "\n",
    "\n",
    " # indicando o conceito das notas\n",
    "  \n",
    "if 9.0 <= media <= 10.0:\n",
    "    conceito = 'A'\n",
    "elif 7.5 <= media < 9.0:\n",
    "    conceito = 'B'\n",
    "elif 6.0 <= media < 7.5:\n",
    "    conceito = 'C'\n",
    "elif 4.0 <= media < 6.0:\n",
    "    conceito = 'D'\n",
    "else:\n",
    "    conceito = 'E'\n",
    "\n",
    "\n",
    "# lógica para aprovação\n",
    "    if 9.0 <= media <= 10.0:\n",
    "        conceito = 'A'\n",
    "    elif 7.5 <= media < 9.0:\n",
    "        conceito = 'B'\n",
    "    elif 6.0 <= media < 7.5:\n",
    "        conceito = 'C'\n",
    "    elif 4.0 <= media < 6.0:\n",
    "        conceito = 'D'\n",
    "    else:\n",
    "        conceito = 'E'\n",
    "\n",
    "# determinando a aprovação do aluno\n",
    "if conceito in ['A', 'B', 'C']:\n",
    "    situacao = 'Aprovado'\n",
    "else:\n",
    "    situacao = 'Reprovado'\n",
    "\n",
    "\n",
    "print(\"Sua média foi\",media)\n",
    "print(f\"Nota 1: {nota1}\")\n",
    "print(f\"Nota 2: {nota2}\")\n",
    "print(f\"Média: {media}\")\n",
    "print(f\"Conceito: {conceito}\")\n",
    "print(f\"Situação: {situacao}\")\n",
    "\n",
    "\n"
   ]
  },
  {
   "cell_type": "code",
   "execution_count": 26,
   "metadata": {},
   "outputs": [
    {
     "name": "stdout",
     "output_type": "stream",
     "text": [
      "O ano 2001 não é bissexto.\n"
     ]
    }
   ],
   "source": [
    "#6)Faça um programa que peça um número correspondente a um determinado  ano e em seguida informe se este ano é ou não bissexto.\n",
    "\n",
    "\n",
    "# Solicita o ano para o usuario\n",
    "ano = int(input(\"Digite um ano: \"))\n",
    "\n",
    "# Verificação se o ano é bissexto\n",
    "if (ano % 4 == 0 and ano % 100 != 0) or (ano % 400 == 0):\n",
    "    print(f\"O ano {ano} é bissexto.\")\n",
    "else:\n",
    "    print(f\"O ano {ano} não é bissexto.\")\n"
   ]
  },
  {
   "cell_type": "code",
   "execution_count": 31,
   "metadata": {},
   "outputs": [
    {
     "name": "stdout",
     "output_type": "stream",
     "text": [
      "O ano 2000 é bissexto.\n"
     ]
    }
   ],
   "source": [
    "# 6) segunda alternativa\n",
    "\n",
    "# Solicita o ano ao usuário\n",
    "ano = int(input(\"Digite um ano: \"))\n",
    "\n",
    "# Verifica se o ano é bissexto e exibe uma mensagem\n",
    "print(f\"O ano {ano} {'é bissexto.' if (ano % 4 == 0 and ano % 100 != 0) or (ano % 400 == 0) else 'não é bissexto.'}\")\n"
   ]
  },
  {
   "cell_type": "code",
   "execution_count": 33,
   "metadata": {},
   "outputs": [
    {
     "name": "stdout",
     "output_type": "stream",
     "text": [
      "O resultado da operação é: 195.0\n",
      "O resultado é ímpar, positivo, e inteiro.\n"
     ]
    }
   ],
   "source": [
    "#7)Faça um Programa que leia 2 números e em seguida pergunte ao usuário qual operação básica(soma, subtração, multiplicação, divisão, exponenciação) ele deseja realizar. O resultado da operação deve ser acompanhado de uma frase que diga se o número é: par ou impar, positivo ou negativo; inteiro ou decimal.\n",
    "# Solicita os números ao usuário\n",
    "num1 = float(input(\"Digite o primeiro número: \"))\n",
    "num2 = float(input(\"Digite o segundo número: \"))\n",
    "\n",
    "# Pergunta ao usuário qual operação deseja realizar\n",
    "operacao = input(\"Digite a operação desejada (+ para soma, - para subtração, * para multiplicação, / para divisão, ** para exponenciação): \")\n",
    "\n",
    "# Realiza a operação escolhida e mostra o resultado\n",
    "resultado = eval(f\"{num1} {operacao} {num2}\")\n",
    "\n",
    "# Exibe o resultado\n",
    "print(f\"O resultado da operação é: {resultado}\")\n",
    "print(f\"O resultado é {'par' if resultado % 2 == 0 else 'ímpar'}, {'positivo' if resultado > 0 else 'negativo'}, e {'inteiro' if resultado.is_integer() else 'decimal'}.\")\n"
   ]
  },
  {
   "cell_type": "code",
   "execution_count": 29,
   "metadata": {},
   "outputs": [
    {
     "name": "stdout",
     "output_type": "stream",
     "text": [
      "Idade inválida. Por favor, digite uma idade entre 0 e 150.\n"
     ]
    }
   ],
   "source": [
    "#8 Faça um programa que peça a idade e exiba a informação. Os valores aceitáveis devem estar entre 0 e 150. Valores fora desse limite não poderão ser aceitos.\n",
    "\n",
    "\n",
    "# Solicitação da idade do usuário\n",
    "idade = int(input(\"Digite sua idade: \"))\n",
    "\n",
    "# Verifica se a idade está dentro do intervalo solicitado na questão\n",
    "if 0 <= idade <= 150:\n",
    "    print(f\"Olá, sua idade é {idade} anos.\")\n",
    "else:\n",
    "    print(\"Idade inválida. Por favor, digite uma idade entre 0 e 150.\")\n",
    "    "
   ]
  },
  {
   "cell_type": "code",
   "execution_count": 5,
   "metadata": {},
   "outputs": [
    {
     "name": "stdout",
     "output_type": "stream",
     "text": [
      "A soma dos números é: 79\n",
      "A média dos números é: 15.8\n"
     ]
    }
   ],
   "source": [
    "# 9) Utilizando estruturas de repetição e listas(com ou sem append), faça um programa que leia 5 números e informe a soma e a média dos números\n",
    "\n",
    "# Lista para armazenar os números digitados pelo usuário\n",
    "numeros = []\n",
    "\n",
    "# Loop para ler os 5 números\n",
    "for i in range(5):\n",
    "    # Solicita ao usuário para digitar um número e o converte para inteiro\n",
    "    numero = int(input(\"Digite um número: \"))\n",
    "    # Adiciona o número à lista\n",
    "    numeros.append(numero)\n",
    "\n",
    "# Calcula a soma dos números usando a função sum()\n",
    "soma = sum(numeros)\n",
    "\n",
    "# Calcula a média dos números dividindo a soma pelo total de números\n",
    "media = soma / len(numeros)\n",
    "\n",
    "# Exibe a soma e a média\n",
    "print(\"A soma dos números é:\", soma)\n",
    "print(\"A média dos números é:\", media)"
   ]
  },
  {
   "cell_type": "code",
   "execution_count": 7,
   "metadata": {},
   "outputs": [
    {
     "name": "stdout",
     "output_type": "stream",
     "text": [
      "Números digitados: [5, 10, 23, 50, 8]\n",
      "A soma dos números é: 96\n",
      "A média dos números é: 19.2\n"
     ]
    }
   ],
   "source": [
    "# 9) versão em que foi exibido os números digitados.\n",
    "#Lista dos números digitados pelo usuário\n",
    "numeros = []\n",
    "\n",
    "# Loop para ler os 5 números\n",
    "for i in range(5):\n",
    "    # Solicita ao usuário para digitar um número e o converte para inteiro\n",
    "    numero = int(input(\"Digite um número: \"))\n",
    "    # Adiciona o número à lista\n",
    "    numeros.append(numero)\n",
    "\n",
    "# Exibe os números digitados\n",
    "print(\"Números digitados:\", numeros)\n",
    "\n",
    "# Calcula a soma dos números usando a função sum()\n",
    "soma = sum(numeros)\n",
    "\n",
    "# Calcula a média dos números dividindo a soma pelo total de números\n",
    "media = soma / len(numeros)\n",
    "\n",
    "# Exibe a soma e a média\n",
    "print(\"A soma dos números é:\", soma)\n",
    "print(\"A média dos números é:\", media)"
   ]
  },
  {
   "cell_type": "code",
   "execution_count": 20,
   "metadata": {},
   "outputs": [
    {
     "name": "stdout",
     "output_type": "stream",
     "text": [
      "23 é um número primo.\n"
     ]
    }
   ],
   "source": [
    "#10. Faça um programa que peça um número inteiro e determine se ele é ou não um número primo. Um número primo é aquele que é divisível somente por ele mesmo e por 1.\n",
    "\n",
    "# Solicita ao usuário para digitar um número inteiro\n",
    "numero = int(input(\"Digite um número inteiro: \"))\n",
    "\n",
    "# Se o número for menor ou igual a 1, não é primo\n",
    "if numero <= 1:\n",
    "    primo = False\n",
    "else:\n",
    "    # Verifica se o número é divisível apenas por 1 e por ele mesmo\n",
    "    primo = True\n",
    "    for i in range(2, numero):\n",
    "        if numero % i == 0:\n",
    "            primo = False\n",
    "            # Se encontrarmos um divisor diferente de 1 e do próprio número, não precisamos mais continuar o loop\n",
    "            primo = False\n",
    "        if primo == False:\n",
    "            # Se já sabemos que não é primo, podemos sair do loop\n",
    "            break\n",
    "\n",
    "# Verifica se o número é primo\n",
    "if primo:\n",
    "    print(numero, \"é um número primo.\")\n",
    "else:\n",
    "    print(numero, \"não é um número primo.\")\n",
    "\n"
   ]
  },
  {
   "cell_type": "code",
   "execution_count": 34,
   "metadata": {},
   "outputs": [
    {
     "name": "stdout",
     "output_type": "stream",
     "text": [
      "A menor temperatura informada é: 24.0 °\n",
      "A maior temperatura informada é: 40.0 °\n",
      "A média das temperaturas é: 30.6 °\n"
     ]
    }
   ],
   "source": [
    "#11)O Departamento Estadual de Meteorologia lhe contratou para desenvolver um programa que lela 5 temperaturas, e informe ao final a menor e a malor temperaturas informadas, bem como a média das temperaturas.\n",
    "# Lista para armazenar as temperaturas\n",
    "temperaturas = []\n",
    "\n",
    "# Loop para ler as 5 temperaturas\n",
    "for i in range(5):\n",
    "    # Solicita ao usuário para digitar uma temperatura e converte para float\n",
    "    temperatura = float(input(\"Digite a temperatura: \"))\n",
    "    # Adiciona a temperatura a lista,utilizei append para adicionar um elemento \n",
    "    temperaturas.append(temperatura)\n",
    "\n",
    "# Inicializa a menor e a maior temperatura com a primeira temperatura informada\n",
    "menor_temperatura = temperaturas[0]\n",
    "maior_temperatura = temperaturas[0]\n",
    "\n",
    "# Calcula a menor e a maior temperatura\n",
    "for temperatura in temperaturas:\n",
    "    if temperatura < menor_temperatura:\n",
    "        menor_temperatura = temperatura\n",
    "    if temperatura > maior_temperatura:\n",
    "        maior_temperatura = temperatura\n",
    "\n",
    "# Calcula a média das temperaturas\n",
    "media_temperaturas = sum(temperaturas) / len(temperaturas)\n",
    "\n",
    "# Exibe a menor e a maior temperatura, bem como a média das temperaturas\n",
    "print(\"A menor temperatura informada é:\", menor_temperatura,'°')\n",
    "print(\"A maior temperatura informada é:\", maior_temperatura,'°')\n",
    "print(\"A média das temperaturas é:\", media_temperaturas,'°')"
   ]
  },
  {
   "cell_type": "code",
   "execution_count": 1,
   "metadata": {},
   "outputs": [
    {
     "name": "stdout",
     "output_type": "stream",
     "text": [
      "Saldo médio: R$100.00 - Nenhum crédito disponível.\n"
     ]
    }
   ],
   "source": [
    "#12\n",
    "\n",
    "def calcular_credito(saldo_medio):\n",
    "    if saldo_medio >= 0 and saldo_medio <= 200:\n",
    "        percentual = 0\n",
    "    elif saldo_medio >= 201 and saldo_medio <= 400:\n",
    "        percentual = 20\n",
    "    elif saldo_medio >= 401 and saldo_medio <= 600:\n",
    "        percentual = 30\n",
    "    else:\n",
    "        percentual = 40\n",
    "\n",
    "    valor_credito = (percentual / 100) * saldo_medio\n",
    "    \n",
    "    return valor_credito, percentual\n",
    "\n",
    "saldo_medio = float(input(\"Digite o saldo médio do último ano: \"))\n",
    "valor_credito, percentual = calcular_credito(saldo_medio)\n",
    "\n",
    "if percentual == 0:\n",
    "    print(f\"Saldo médio: R${saldo_medio:.2f} - Nenhum crédito disponível.\")\n",
    "else:\n",
    "    print(f\"Saldo médio: R${saldo_medio:.2f} - Crédito disponível: R${valor_credito:.2f} ({percentual}% do valor do saldo médio).\")"
   ]
  },
  {
   "cell_type": "code",
   "execution_count": 2,
   "metadata": {},
   "outputs": [
    {
     "name": "stdout",
     "output_type": "stream",
     "text": [
      "bernardo, você poderá se aposentar no ano 2066.\n"
     ]
    }
   ],
   "source": [
    "#13\n",
    "\n",
    "ano_atual = int(input(\"Digite o ano atual: \"))\n",
    "nome = input(\"Digite seu nome: \")\n",
    "idade = int(input(\"Digite sua idade: \"))\n",
    "\n",
    "ano_aposentadoria = ano_atual + (65 - idade)\n",
    "\n",
    "print(f\"{nome}, você poderá se aposentar no ano {ano_aposentadoria}.\")"
   ]
  },
  {
   "cell_type": "code",
   "execution_count": 3,
   "metadata": {},
   "outputs": [
    {
     "name": "stdout",
     "output_type": "stream",
     "text": [
      "Salário Líquido: 630.5\n",
      "Dedução de Imposto de Renda: 0\n",
      "Dedução do Sindicato: 19.5\n",
      "Contribuição do FGTS pela Empresa: 71.5\n"
     ]
    }
   ],
   "source": [
    "#14-\n",
    "\n",
    "def calcular_salario_liquido(salario_bruto, horas_trabalhadas):\n",
    "    # Deduções\n",
    "    sindicato = salario_bruto * 0.03\n",
    "    fgts = salario_bruto * 0.11\n",
    "    \n",
    "    #Imposto de Renda\n",
    "    if salario_bruto <= 2112:\n",
    "        ir = 0\n",
    "    elif salario_bruto <= 2826.65:\n",
    "        ir = salario_bruto * 0.075\n",
    "    elif salario_bruto <= 3751.05:\n",
    "        ir = salario_bruto * 0.15\n",
    "    elif salario_bruto <= 4664.68:\n",
    "        ir = salario_bruto * 0.225\n",
    "    else:\n",
    "        ir = salario_bruto * 0.275\n",
    "    \n",
    "    # Cálculo do Salário Líquido após deduções \n",
    "    salario_liquido = (salario_bruto - (ir + sindicato))\n",
    "    \n",
    "    return {\n",
    "        \"Salário Líquido\": round(salario_liquido, 2),\n",
    "        \"Imposto de Renda\": round(ir, 2),\n",
    "        \"Sindicato\": round(sindicato, 2),\n",
    "        \"FGTS\": round(fgts, 2)\n",
    "    }\n",
    "\n",
    "#Salário Bruto e Horas Trabalhadas no mês.\n",
    "salario_bruto = float(input(\"Digite o seu Salário Bruto: \"))\n",
    "horas_trabalhadas_no_mes = int(input(\"Digite o número de horas trabalhadas no mês: \"))\n",
    "\n",
    "# Calculando Salário Líquido.\n",
    "resultado = calcular_salario_liquido(salario_bruto, horas_trabalhadas_no_mes)\n",
    "\n",
    "print(f\"Salário Líquido: {resultado['Salário Líquido']}\")\n",
    "print(f\"Dedução de Imposto de Renda: {resultado['Imposto de Renda']}\")\n",
    "print(f\"Dedução do Sindicato: {resultado['Sindicato']}\")\n",
    "print(f\"Contribuição do FGTS pela Empresa: {resultado['FGTS']}\")"
   ]
  },
  {
   "cell_type": "code",
   "execution_count": null,
   "metadata": {},
   "outputs": [],
   "source": []
  }
 ],
 "metadata": {
  "kernelspec": {
   "display_name": "Python 3",
   "language": "python",
   "name": "python3"
  },
  "language_info": {
   "codemirror_mode": {
    "name": "ipython",
    "version": 3
   },
   "file_extension": ".py",
   "mimetype": "text/x-python",
   "name": "python",
   "nbconvert_exporter": "python",
   "pygments_lexer": "ipython3",
   "version": "3.11.9"
  }
 },
 "nbformat": 4,
 "nbformat_minor": 2
}
